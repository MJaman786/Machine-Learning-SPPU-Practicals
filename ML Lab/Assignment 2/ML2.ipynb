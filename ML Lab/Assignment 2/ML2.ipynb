{
  "nbformat": 4,
  "nbformat_minor": 0,
  "metadata": {
    "colab": {
      "provenance": []
    },
    "kernelspec": {
      "name": "python3",
      "display_name": "Python 3"
    },
    "language_info": {
      "name": "python"
    }
  },
  "cells": [
    {
      "cell_type": "code",
      "execution_count": 1,
      "metadata": {
        "id": "NFC2n7ppI4Xp"
      },
      "outputs": [],
      "source": [
        "import pandas as pd\n",
        "import matplotlib.pyplot as plt\n",
        "import seaborn as sns"
      ]
    },
    {
      "cell_type": "code",
      "source": [
        "df = pd.read_csv(\"/content/temperatures.csv\")"
      ],
      "metadata": {
        "id": "8jlmtNYhLFwB"
      },
      "execution_count": 2,
      "outputs": []
    },
    {
      "cell_type": "code",
      "source": [
        "df.shape"
      ],
      "metadata": {
        "colab": {
          "base_uri": "https://localhost:8080/"
        },
        "id": "kKb_YarKLNkJ",
        "outputId": "fbe8c06d-bdf6-4fc2-fcac-9b6302725fbd"
      },
      "execution_count": 3,
      "outputs": [
        {
          "output_type": "execute_result",
          "data": {
            "text/plain": [
              "(117, 18)"
            ]
          },
          "metadata": {},
          "execution_count": 3
        }
      ]
    },
    {
      "cell_type": "code",
      "source": [
        "df.dtypes"
      ],
      "metadata": {
        "colab": {
          "base_uri": "https://localhost:8080/"
        },
        "id": "l6StSX1OLRMl",
        "outputId": "ca3e2912-027d-4d56-f6e6-4bacfe3793e5"
      },
      "execution_count": 4,
      "outputs": [
        {
          "output_type": "execute_result",
          "data": {
            "text/plain": [
              "YEAR         int64\n",
              "JAN        float64\n",
              "FEB        float64\n",
              "MAR        float64\n",
              "APR        float64\n",
              "MAY        float64\n",
              "JUN        float64\n",
              "JUL        float64\n",
              "AUG        float64\n",
              "SEP        float64\n",
              "OCT        float64\n",
              "NOV        float64\n",
              "DEC        float64\n",
              "ANNUAL     float64\n",
              "JAN-FEB    float64\n",
              "MAR-MAY    float64\n",
              "JUN-SEP    float64\n",
              "OCT-DEC    float64\n",
              "dtype: object"
            ]
          },
          "metadata": {},
          "execution_count": 4
        }
      ]
    },
    {
      "cell_type": "code",
      "source": [
        "df.isnull().sum()"
      ],
      "metadata": {
        "colab": {
          "base_uri": "https://localhost:8080/"
        },
        "id": "q8mht1CILe4k",
        "outputId": "e3ba990d-ecf0-4c30-f6d9-6603bbf75d16"
      },
      "execution_count": 5,
      "outputs": [
        {
          "output_type": "execute_result",
          "data": {
            "text/plain": [
              "YEAR       0\n",
              "JAN        0\n",
              "FEB        0\n",
              "MAR        0\n",
              "APR        0\n",
              "MAY        0\n",
              "JUN        0\n",
              "JUL        0\n",
              "AUG        0\n",
              "SEP        0\n",
              "OCT        0\n",
              "NOV        0\n",
              "DEC        0\n",
              "ANNUAL     0\n",
              "JAN-FEB    0\n",
              "MAR-MAY    0\n",
              "JUN-SEP    0\n",
              "OCT-DEC    0\n",
              "dtype: int64"
            ]
          },
          "metadata": {},
          "execution_count": 5
        }
      ]
    },
    {
      "cell_type": "code",
      "source": [
        "df.columns"
      ],
      "metadata": {
        "colab": {
          "base_uri": "https://localhost:8080/"
        },
        "id": "ahxsaFrVM-SN",
        "outputId": "d8fbc978-0785-4c0b-fe05-db18bd687f47"
      },
      "execution_count": 6,
      "outputs": [
        {
          "output_type": "execute_result",
          "data": {
            "text/plain": [
              "Index(['YEAR', 'JAN', 'FEB', 'MAR', 'APR', 'MAY', 'JUN', 'JUL', 'AUG', 'SEP',\n",
              "       'OCT', 'NOV', 'DEC', 'ANNUAL', 'JAN-FEB', 'MAR-MAY', 'JUN-SEP',\n",
              "       'OCT-DEC'],\n",
              "      dtype='object')"
            ]
          },
          "metadata": {},
          "execution_count": 6
        }
      ]
    },
    {
      "cell_type": "code",
      "source": [
        "# input data\n",
        "x = df['YEAR']"
      ],
      "metadata": {
        "id": "bQGXFd-YLmfC"
      },
      "execution_count": 7,
      "outputs": []
    },
    {
      "cell_type": "code",
      "source": [
        "# output data\n",
        "y = df['ANNUAL']\n",
        "# y = df['JAN']"
      ],
      "metadata": {
        "id": "K9P7aC3VMdjz"
      },
      "execution_count": 8,
      "outputs": []
    },
    {
      "cell_type": "code",
      "source": [
        "# plt.figure(figsize=(10,7))\n",
        "print(\"Temperature of INDIA\")\n",
        "plt.xlabel('- YEAR -') # x-axis\n",
        "plt.ylabel('- ANNUAL Temperature -') # y-axix\n",
        "plt.scatter(x,y)"
      ],
      "metadata": {
        "colab": {
          "base_uri": "https://localhost:8080/",
          "height": 484
        },
        "id": "Tz_DmvAsMdmf",
        "outputId": "b8db15f3-5aab-4963-b8ad-2b57cb4d2e51"
      },
      "execution_count": 9,
      "outputs": [
        {
          "output_type": "stream",
          "name": "stdout",
          "text": [
            "Temperature of INDIA\n"
          ]
        },
        {
          "output_type": "execute_result",
          "data": {
            "text/plain": [
              "<matplotlib.collections.PathCollection at 0x7ae8c45db8b0>"
            ]
          },
          "metadata": {},
          "execution_count": 9
        },
        {
          "output_type": "display_data",
          "data": {
            "text/plain": [
              "<Figure size 640x480 with 1 Axes>"
            ],
            "image/png": "[encoded data removed]"
          },
          "metadata": {}
        }
      ]
    },
    {
      "cell_type": "code",
      "source": [
        "# there must be at least a single colum for it we are reshaping it\n",
        "x.shape"
      ],
      "metadata": {
        "colab": {
          "base_uri": "https://localhost:8080/"
        },
        "id": "B2RuLkVyMdpQ",
        "outputId": "be82253a-7b8d-47d5-b24d-6ac88d7a33b4"
      },
      "execution_count": 10,
      "outputs": [
        {
          "output_type": "execute_result",
          "data": {
            "text/plain": [
              "(117,)"
            ]
          },
          "metadata": {},
          "execution_count": 10
        }
      ]
    },
    {
      "cell_type": "code",
      "source": [
        "x = x.values"
      ],
      "metadata": {
        "id": "lV16DuUlMdsO"
      },
      "execution_count": 11,
      "outputs": []
    },
    {
      "cell_type": "code",
      "source": [
        "x = x.reshape(117,1)"
      ],
      "metadata": {
        "id": "WMoPQEyyMduv"
      },
      "execution_count": 12,
      "outputs": []
    },
    {
      "cell_type": "code",
      "source": [
        "x.shape"
      ],
      "metadata": {
        "colab": {
          "base_uri": "https://localhost:8080/"
        },
        "id": "FZNs4UJyMdxg",
        "outputId": "3e97f9e6-d63b-496e-bc90-c3e0e7b5f520"
      },
      "execution_count": 13,
      "outputs": [
        {
          "output_type": "execute_result",
          "data": {
            "text/plain": [
              "(117, 1)"
            ]
          },
          "metadata": {},
          "execution_count": 13
        }
      ]
    },
    {
      "cell_type": "code",
      "source": [
        "from sklearn.linear_model import LinearRegression"
      ],
      "metadata": {
        "id": "Hlx-RKroMd0e"
      },
      "execution_count": 14,
      "outputs": []
    },
    {
      "cell_type": "code",
      "source": [
        "regressor = LinearRegression()"
      ],
      "metadata": {
        "id": "x0-pnlPgMd3V"
      },
      "execution_count": 15,
      "outputs": []
    },
    {
      "cell_type": "code",
      "source": [
        "# for training algorithm 'fit' method is used\n",
        "# slope 'm'\n",
        "regressor.fit(x,y)"
      ],
      "metadata": {
        "colab": {
          "base_uri": "https://localhost:8080/",
          "height": 74
        },
        "id": "Rf4Uz_KdMd6O",
        "outputId": "c9bb6948-5c29-4b61-f82b-8bc50ca97dfd"
      },
      "execution_count": 16,
      "outputs": [
        {
          "output_type": "execute_result",
          "data": {
            "text/plain": [
              "LinearRegression()"
            ],
            "text/html": [
              "<style>#sk-container-id-1 {color: black;background-color: white;}#sk-container-id-1 pre{padding: 0;}#sk-container-id-1 div.sk-toggleable {background-color: white;}#sk-container-id-1 label.sk-toggleable__label {cursor: pointer;display: block;width: 100%;margin-bottom: 0;padding: 0.3em;box-sizing: border-box;text-align: center;}#sk-container-id-1 label.sk-toggleable__label-arrow:before {content: \"▸\";float: left;margin-right: 0.25em;color: #696969;}#sk-container-id-1 label.sk-toggleable__label-arrow:hover:before {color: black;}#sk-container-id-1 div.sk-estimator:hover label.sk-toggleable__label-arrow:before {color: black;}#sk-container-id-1 div.sk-toggleable__content {max-height: 0;max-width: 0;overflow: hidden;text-align: left;background-color: #f0f8ff;}#sk-container-id-1 div.sk-toggleable__content pre {margin: 0.2em;color: black;border-radius: 0.25em;background-color: #f0f8ff;}#sk-container-id-1 input.sk-toggleable__control:checked~div.sk-toggleable__content {max-height: 200px;max-width: 100%;overflow: auto;}#sk-container-id-1 input.sk-toggleable__control:checked~label.sk-toggleable__label-arrow:before {content: \"▾\";}#sk-container-id-1 div.sk-estimator input.sk-toggleable__control:checked~label.sk-toggleable__label {background-color: #d4ebff;}#sk-container-id-1 div.sk-label input.sk-toggleable__control:checked~label.sk-toggleable__label {background-color: #d4ebff;}#sk-container-id-1 input.sk-hidden--visually {border: 0;clip: rect(1px 1px 1px 1px);clip: rect(1px, 1px, 1px, 1px);height: 1px;margin: -1px;overflow: hidden;padding: 0;position: absolute;width: 1px;}#sk-container-id-1 div.sk-estimator {font-family: monospace;background-color: #f0f8ff;border: 1px dotted black;border-radius: 0.25em;box-sizing: border-box;margin-bottom: 0.5em;}#sk-container-id-1 div.sk-estimator:hover {background-color: #d4ebff;}#sk-container-id-1 div.sk-parallel-item::after {content: \"\";width: 100%;border-bottom: 1px solid gray;flex-grow: 1;}#sk-container-id-1 div.sk-label:hover label.sk-toggleable__label {background-color: #d4ebff;}#sk-container-id-1 div.sk-serial::before {content: \"\";position: absolute;border-left: 1px solid gray;box-sizing: border-box;top: 0;bottom: 0;left: 50%;z-index: 0;}#sk-container-id-1 div.sk-serial {display: flex;flex-direction: column;align-items: center;background-color: white;padding-right: 0.2em;padding-left: 0.2em;position: relative;}#sk-container-id-1 div.sk-item {position: relative;z-index: 1;}#sk-container-id-1 div.sk-parallel {display: flex;align-items: stretch;justify-content: center;background-color: white;position: relative;}#sk-container-id-1 div.sk-item::before, #sk-container-id-1 div.sk-parallel-item::before {content: \"\";position: absolute;border-left: 1px solid gray;box-sizing: border-box;top: 0;bottom: 0;left: 50%;z-index: -1;}#sk-container-id-1 div.sk-parallel-item {display: flex;flex-direction: column;z-index: 1;position: relative;background-color: white;}#sk-container-id-1 div.sk-parallel-item:first-child::after {align-self: flex-end;width: 50%;}#sk-container-id-1 div.sk-parallel-item:last-child::after {align-self: flex-start;width: 50%;}#sk-container-id-1 div.sk-parallel-item:only-child::after {width: 0;}#sk-container-id-1 div.sk-dashed-wrapped {border: 1px dashed gray;margin: 0 0.4em 0.5em 0.4em;box-sizing: border-box;padding-bottom: 0.4em;background-color: white;}#sk-container-id-1 div.sk-label label {font-family: monospace;font-weight: bold;display: inline-block;line-height: 1.2em;}#sk-container-id-1 div.sk-label-container {text-align: center;}#sk-container-id-1 div.sk-container {/* jupyter's `normalize.less` sets `[hidden] { display: none; }` but bootstrap.min.css set `[hidden] { display: none !important; }` so we also need the `!important` here to be able to override the default hidden behavior on the sphinx rendered scikit-learn.org. See: https://github.com/scikit-learn/scikit-learn/issues/21755 */display: inline-block !important;position: relative;}#sk-container-id-1 div.sk-text-repr-fallback {display: none;}</style><div id=\"sk-container-id-1\" class=\"sk-top-container\"><div class=\"sk-text-repr-fallback\"><pre>LinearRegression()</pre><b>In a Jupyter environment, please rerun this cell to show the HTML representation or trust the notebook. <br />On GitHub, the HTML representation is unable to render, please try loading this page with nbviewer.org.</b></div><div class=\"sk-container\" hidden><div class=\"sk-item\"><div class=\"sk-estimator sk-toggleable\"><input class=\"sk-toggleable__control sk-hidden--visually\" id=\"sk-estimator-id-1\" type=\"checkbox\" checked><label for=\"sk-estimator-id-1\" class=\"sk-toggleable__label sk-toggleable__label-arrow\">LinearRegression</label><div class=\"sk-toggleable__content\"><pre>LinearRegression()</pre></div></div></div></div></div>"
            ]
          },
          "metadata": {},
          "execution_count": 16
        }
      ]
    },
    {
      "cell_type": "code",
      "source": [
        "# this is 'm' value from equation 'Y = mX + C'\n",
        "regressor.coef_"
      ],
      "metadata": {
        "id": "rHycETAsMd9D",
        "colab": {
          "base_uri": "https://localhost:8080/"
        },
        "outputId": "d854da95-03fe-496b-fb6c-b113812f2fa6"
      },
      "execution_count": 19,
      "outputs": [
        {
          "output_type": "execute_result",
          "data": {
            "text/plain": [
              "array([0.01312158])"
            ]
          },
          "metadata": {},
          "execution_count": 19
        }
      ]
    },
    {
      "cell_type": "code",
      "source": [
        "# this is 'c' value from equation 'Y = mX + C'\n",
        "# intercept 'c'\n",
        "regressor.intercept_"
      ],
      "metadata": {
        "id": "vX5g85AZMd_q",
        "colab": {
          "base_uri": "https://localhost:8080/"
        },
        "outputId": "ad11ba95-b20a-40ab-a0ab-3c256841eca1"
      },
      "execution_count": 21,
      "outputs": [
        {
          "output_type": "execute_result",
          "data": {
            "text/plain": [
              "3.4761897126187016"
            ]
          },
          "metadata": {},
          "execution_count": 21
        }
      ]
    },
    {
      "cell_type": "code",
      "source": [
        "regressor.predict([[2023]])"
      ],
      "metadata": {
        "id": "rJPXanWvMeCm",
        "colab": {
          "base_uri": "https://localhost:8080/"
        },
        "outputId": "dc5845b0-5c31-41d8-f5a8-586e9ee4aa2d"
      },
      "execution_count": 23,
      "outputs": [
        {
          "output_type": "execute_result",
          "data": {
            "text/plain": [
              "array([30.02114873])"
            ]
          },
          "metadata": {},
          "execution_count": 23
        }
      ]
    },
    {
      "cell_type": "code",
      "source": [
        "predicted = regressor.predict(x)"
      ],
      "metadata": {
        "id": "DvRuZ38w9bKd"
      },
      "execution_count": 24,
      "outputs": []
    },
    {
      "cell_type": "code",
      "source": [
        "predicted"
      ],
      "metadata": {
        "colab": {
          "base_uri": "https://localhost:8080/"
        },
        "id": "zSKLJyLd9bMG",
        "outputId": "279aa146-4979-418d-e4e2-816e81e11bc3"
      },
      "execution_count": 25,
      "outputs": [
        {
          "output_type": "execute_result",
          "data": {
            "text/plain": [
              "array([28.4203158 , 28.43343739, 28.44655897, 28.45968055, 28.47280213,\n",
              "       28.48592371, 28.49904529, 28.51216687, 28.52528846, 28.53841004,\n",
              "       28.55153162, 28.5646532 , 28.57777478, 28.59089636, 28.60401794,\n",
              "       28.61713952, 28.63026111, 28.64338269, 28.65650427, 28.66962585,\n",
              "       28.68274743, 28.69586901, 28.70899059, 28.72211218, 28.73523376,\n",
              "       28.74835534, 28.76147692, 28.7745985 , 28.78772008, 28.80084166,\n",
              "       28.81396324, 28.82708483, 28.84020641, 28.85332799, 28.86644957,\n",
              "       28.87957115, 28.89269273, 28.90581431, 28.91893589, 28.93205748,\n",
              "       28.94517906, 28.95830064, 28.97142222, 28.9845438 , 28.99766538,\n",
              "       29.01078696, 29.02390855, 29.03703013, 29.05015171, 29.06327329,\n",
              "       29.07639487, 29.08951645, 29.10263803, 29.11575961, 29.1288812 ,\n",
              "       29.14200278, 29.15512436, 29.16824594, 29.18136752, 29.1944891 ,\n",
              "       29.20761068, 29.22073227, 29.23385385, 29.24697543, 29.26009701,\n",
              "       29.27321859, 29.28634017, 29.29946175, 29.31258333, 29.32570492,\n",
              "       29.3388265 , 29.35194808, 29.36506966, 29.37819124, 29.39131282,\n",
              "       29.4044344 , 29.41755599, 29.43067757, 29.44379915, 29.45692073,\n",
              "       29.47004231, 29.48316389, 29.49628547, 29.50940705, 29.52252864,\n",
              "       29.53565022, 29.5487718 , 29.56189338, 29.57501496, 29.58813654,\n",
              "       29.60125812, 29.6143797 , 29.62750129, 29.64062287, 29.65374445,\n",
              "       29.66686603, 29.67998761, 29.69310919, 29.70623077, 29.71935236,\n",
              "       29.73247394, 29.74559552, 29.7587171 , 29.77183868, 29.78496026,\n",
              "       29.79808184, 29.81120342, 29.82432501, 29.83744659, 29.85056817,\n",
              "       29.86368975, 29.87681133, 29.88993291, 29.90305449, 29.91617608,\n",
              "       29.92929766, 29.94241924])"
            ]
          },
          "metadata": {},
          "execution_count": 25
        }
      ]
    },
    {
      "cell_type": "code",
      "source": [
        "y"
      ],
      "metadata": {
        "colab": {
          "base_uri": "https://localhost:8080/"
        },
        "id": "ZIkB-NZl9bQK",
        "outputId": "9f7dc1d6-5798-4e6e-cca1-6bc2298eccaf"
      },
      "execution_count": 26,
      "outputs": [
        {
          "output_type": "execute_result",
          "data": {
            "text/plain": [
              "0      28.96\n",
              "1      29.22\n",
              "2      28.47\n",
              "3      28.49\n",
              "4      28.30\n",
              "       ...  \n",
              "112    29.81\n",
              "113    29.72\n",
              "114    29.90\n",
              "115    31.63\n",
              "116    31.42\n",
              "Name: ANNUAL, Length: 117, dtype: float64"
            ]
          },
          "metadata": {},
          "execution_count": 26
        }
      ]
    },
    {
      "cell_type": "code",
      "source": [
        "# Difference between actual and predicted is called MAE\n",
        "import numpy as np"
      ],
      "metadata": {
        "id": "QQvrNRQfMeFa"
      },
      "execution_count": 27,
      "outputs": []
    },
    {
      "cell_type": "code",
      "source": [
        "abs(y - predicted)"
      ],
      "metadata": {
        "id": "N6h3Lv9VMeIy",
        "colab": {
          "base_uri": "https://localhost:8080/"
        },
        "outputId": "c924be8c-b9d9-4773-e71e-31833b3c08b7"
      },
      "execution_count": 28,
      "outputs": [
        {
          "output_type": "execute_result",
          "data": {
            "text/plain": [
              "0      0.539684\n",
              "1      0.786563\n",
              "2      0.023441\n",
              "3      0.030319\n",
              "4      0.172802\n",
              "         ...   \n",
              "112    0.079933\n",
              "113    0.183054\n",
              "114    0.016176\n",
              "115    1.700702\n",
              "116    1.477581\n",
              "Name: ANNUAL, Length: 117, dtype: float64"
            ]
          },
          "metadata": {},
          "execution_count": 28
        }
      ]
    },
    {
      "cell_type": "code",
      "source": [
        "np.mean(abs(y - predicted))"
      ],
      "metadata": {
        "colab": {
          "base_uri": "https://localhost:8080/"
        },
        "id": "UYMK8ROB_kIC",
        "outputId": "5de4d2d3-13d3-45a9-f2ab-aa5db6fccf47"
      },
      "execution_count": 29,
      "outputs": [
        {
          "output_type": "execute_result",
          "data": {
            "text/plain": [
              "0.22535284978630413"
            ]
          },
          "metadata": {},
          "execution_count": 29
        }
      ]
    },
    {
      "cell_type": "code",
      "source": [
        "# we can also use lib for calculating MAE\n",
        "from sklearn.metrics import mean_absolute_error\n",
        "mean_absolute_error(y, predicted)"
      ],
      "metadata": {
        "colab": {
          "base_uri": "https://localhost:8080/"
        },
        "id": "JTDAZPne_k1e",
        "outputId": "66d49ee2-37aa-4490-8605-090af6d81e71"
      },
      "execution_count": 30,
      "outputs": [
        {
          "output_type": "execute_result",
          "data": {
            "text/plain": [
              "0.22535284978630413"
            ]
          },
          "metadata": {},
          "execution_count": 30
        }
      ]
    },
    {
      "cell_type": "code",
      "source": [
        "# we can also use lib for calculating MSE\n",
        "from sklearn.metrics import mean_squared_error\n",
        "mean_squared_error(y, predicted)"
      ],
      "metadata": {
        "colab": {
          "base_uri": "https://localhost:8080/"
        },
        "id": "L26sDvll_k23",
        "outputId": "a9427bf9-2fb7-4352-ac42-99402126f1c0"
      },
      "execution_count": 31,
      "outputs": [
        {
          "output_type": "execute_result",
          "data": {
            "text/plain": [
              "0.10960795229110352"
            ]
          },
          "metadata": {},
          "execution_count": 31
        }
      ]
    },
    {
      "cell_type": "code",
      "source": [
        "# we can also use lib for calculating R - Square Error\n",
        "from sklearn.metrics import r2_score\n",
        "r2_score(y, predicted)"
      ],
      "metadata": {
        "colab": {
          "base_uri": "https://localhost:8080/"
        },
        "id": "VkvEJk-z_k6y",
        "outputId": "95e259bb-2da9-4406-8c26-7c1eff7be1a6"
      },
      "execution_count": 32,
      "outputs": [
        {
          "output_type": "execute_result",
          "data": {
            "text/plain": [
              "0.6418078912783682"
            ]
          },
          "metadata": {},
          "execution_count": 32
        }
      ]
    },
    {
      "cell_type": "code",
      "source": [
        "# drwing the best fit line\n",
        "plt.xlabel('Year')\n",
        "plt.ylabel('Annual Temperature')\n",
        "plt.scatter(x, y, label = 'actual', color = 'r')\n",
        "plt.plot(x, predicted, label = 'predicted', color = 'b')"
      ],
      "metadata": {
        "colab": {
          "base_uri": "https://localhost:8080/",
          "height": 466
        },
        "id": "T6clranqBOTd",
        "outputId": "de6a6afd-ae66-489c-8765-74769882c50c"
      },
      "execution_count": 36,
      "outputs": [
        {
          "output_type": "execute_result",
          "data": {
            "text/plain": [
              "[<matplotlib.lines.Line2D at 0x7ae8bce66a70>]"
            ]
          },
          "metadata": {},
          "execution_count": 36
        },
        {
          "output_type": "display_data",
          "data": {
            "text/plain": [
              "<Figure size 640x480 with 1 Axes>"
            ],
            "image/png": "[encoded data removed]"
          },
          "metadata": {}
        }
      ]
    },
    {
      "cell_type": "code",
      "source": [
        "# drawing the best fit line\n",
        "sns.regplot(x='YEAR', y='ANNUAL', data=df)"
      ],
      "metadata": {
        "colab": {
          "base_uri": "https://localhost:8080/",
          "height": 466
        },
        "id": "x5J11YSIBOVE",
        "outputId": "ff25f6cb-f632-404e-b5b7-08ff5b2fbb92"
      },
      "execution_count": 38,
      "outputs": [
        {
          "output_type": "execute_result",
          "data": {
            "text/plain": [
              "<Axes: xlabel='YEAR', ylabel='ANNUAL'>"
            ]
          },
          "metadata": {},
          "execution_count": 38
        },
        {
          "output_type": "display_data",
          "data": {
            "text/plain": [
              "<Figure size 640x480 with 1 Axes>"
            ],
            "image/png": "[encoded data removed]"
          },
          "metadata": {}
        }
      ]
    },
    {
      "cell_type": "code",
      "source": [],
      "metadata": {
        "id": "Z0BQBm03BOZE"
      },
      "execution_count": null,
      "outputs": []
    },
    {
      "cell_type": "code",
      "source": [],
      "metadata": {
        "id": "xoRzGRGmBOag"
      },
      "execution_count": null,
      "outputs": []
    },
    {
      "cell_type": "code",
      "source": [],
      "metadata": {
        "id": "nVjT-0baBOd3"
      },
      "execution_count": null,
      "outputs": []
    },
    {
      "cell_type": "code",
      "source": [],
      "metadata": {
        "id": "S0gUFlUlBOfd"
      },
      "execution_count": null,
      "outputs": []
    },
    {
      "cell_type": "code",
      "source": [],
      "metadata": {
        "id": "JjWMddty_lAa"
      },
      "execution_count": null,
      "outputs": []
    }
  ]
}