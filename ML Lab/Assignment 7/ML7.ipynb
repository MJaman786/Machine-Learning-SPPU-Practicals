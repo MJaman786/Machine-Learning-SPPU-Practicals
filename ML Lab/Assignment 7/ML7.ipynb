{
  "nbformat": 4,
  "nbformat_minor": 0,
  "metadata": {
    "colab": {
      "provenance": []
    },
    "kernelspec": {
      "name": "python3",
      "display_name": "Python 3"
    },
    "language_info": {
      "name": "python"
    }
  },
  "cells": [
    {
      "cell_type": "code",
      "execution_count": 1,
      "metadata": {
        "id": "HPm8ex2DxT8f"
      },
      "outputs": [],
      "source": [
        "import numpy as np"
      ]
    },
    {
      "cell_type": "code",
      "source": [
        "df = np.loadtxt('https://raw.githubusercontent.com/jbrownlee/Datasets/master/pima-indians-diabetes.data.csv'\n",
        "                , delimiter = ',')"
      ],
      "metadata": {
        "id": "kOulY8DMKKMI"
      },
      "execution_count": 3,
      "outputs": []
    },
    {
      "cell_type": "code",
      "source": [
        "df"
      ],
      "metadata": {
        "colab": {
          "base_uri": "https://localhost:8080/"
        },
        "id": "6tKd1F6OKKN7",
        "outputId": "5de01226-c6d8-4b8c-fe25-a371cbf17de0"
      },
      "execution_count": 4,
      "outputs": [
        {
          "output_type": "execute_result",
          "data": {
            "text/plain": [
              "array([[  6.   , 148.   ,  72.   , ...,   0.627,  50.   ,   1.   ],\n",
              "       [  1.   ,  85.   ,  66.   , ...,   0.351,  31.   ,   0.   ],\n",
              "       [  8.   , 183.   ,  64.   , ...,   0.672,  32.   ,   1.   ],\n",
              "       ...,\n",
              "       [  5.   , 121.   ,  72.   , ...,   0.245,  30.   ,   0.   ],\n",
              "       [  1.   , 126.   ,  60.   , ...,   0.349,  47.   ,   1.   ],\n",
              "       [  1.   ,  93.   ,  70.   , ...,   0.315,  23.   ,   0.   ]])"
            ]
          },
          "metadata": {},
          "execution_count": 4
        }
      ]
    },
    {
      "cell_type": "code",
      "source": [
        "df.shape"
      ],
      "metadata": {
        "colab": {
          "base_uri": "https://localhost:8080/"
        },
        "id": "tM9yewGMKsda",
        "outputId": "8a1fc769-c2f3-472b-d47a-2df58fecbc8c"
      },
      "execution_count": 6,
      "outputs": [
        {
          "output_type": "execute_result",
          "data": {
            "text/plain": [
              "(768, 9)"
            ]
          },
          "metadata": {},
          "execution_count": 6
        }
      ]
    },
    {
      "cell_type": "code",
      "source": [
        "# input data\n",
        "x = df[:,:8]\n",
        "\n",
        "# output data\n",
        "y = df[:,8]"
      ],
      "metadata": {
        "id": "21tM8gVyKKR3"
      },
      "execution_count": 9,
      "outputs": []
    },
    {
      "cell_type": "code",
      "source": [
        "x"
      ],
      "metadata": {
        "colab": {
          "base_uri": "https://localhost:8080/"
        },
        "id": "UOYXHIz_KKT0",
        "outputId": "281e3899-8936-469b-bc21-2b96ec66045a"
      },
      "execution_count": 11,
      "outputs": [
        {
          "output_type": "execute_result",
          "data": {
            "text/plain": [
              "array([[  6.   , 148.   ,  72.   , ...,  33.6  ,   0.627,  50.   ],\n",
              "       [  1.   ,  85.   ,  66.   , ...,  26.6  ,   0.351,  31.   ],\n",
              "       [  8.   , 183.   ,  64.   , ...,  23.3  ,   0.672,  32.   ],\n",
              "       ...,\n",
              "       [  5.   , 121.   ,  72.   , ...,  26.2  ,   0.245,  30.   ],\n",
              "       [  1.   , 126.   ,  60.   , ...,  30.1  ,   0.349,  47.   ],\n",
              "       [  1.   ,  93.   ,  70.   , ...,  30.4  ,   0.315,  23.   ]])"
            ]
          },
          "metadata": {},
          "execution_count": 11
        }
      ]
    },
    {
      "cell_type": "code",
      "source": [
        "y"
      ],
      "metadata": {
        "colab": {
          "base_uri": "https://localhost:8080/"
        },
        "id": "qkj2QzffKKXU",
        "outputId": "0279eb6d-e017-4f3b-9f6c-d121314d06f6"
      },
      "execution_count": 12,
      "outputs": [
        {
          "output_type": "execute_result",
          "data": {
            "text/plain": [
              "array([1., 0., 1., 0., 1., 0., 1., 0., 1., 1., 0., 1., 0., 1., 1., 1., 1.,\n",
              "       1., 0., 1., 0., 0., 1., 1., 1., 1., 1., 0., 0., 0., 0., 1., 0., 0.,\n",
              "       0., 0., 0., 1., 1., 1., 0., 0., 0., 1., 0., 1., 0., 0., 1., 0., 0.,\n",
              "       0., 0., 1., 0., 0., 1., 0., 0., 0., 0., 1., 0., 0., 1., 0., 1., 0.,\n",
              "       0., 0., 1., 0., 1., 0., 0., 0., 0., 0., 1., 0., 0., 0., 0., 0., 1.,\n",
              "       0., 0., 0., 1., 0., 0., 0., 0., 1., 0., 0., 0., 0., 0., 1., 1., 0.,\n",
              "       0., 0., 0., 0., 0., 0., 0., 1., 1., 1., 0., 0., 1., 1., 1., 0., 0.,\n",
              "       0., 1., 0., 0., 0., 1., 1., 0., 0., 1., 1., 1., 1., 1., 0., 0., 0.,\n",
              "       0., 0., 0., 0., 0., 0., 0., 1., 0., 0., 0., 0., 0., 0., 0., 0., 1.,\n",
              "       0., 1., 1., 0., 0., 0., 1., 0., 0., 0., 0., 1., 1., 0., 0., 0., 0.,\n",
              "       1., 1., 0., 0., 0., 1., 0., 1., 0., 1., 0., 0., 0., 0., 0., 1., 1.,\n",
              "       1., 1., 1., 0., 0., 1., 1., 0., 1., 0., 1., 1., 1., 0., 0., 0., 0.,\n",
              "       0., 0., 1., 1., 0., 1., 0., 0., 0., 1., 1., 1., 1., 0., 1., 1., 1.,\n",
              "       1., 0., 0., 0., 0., 0., 1., 0., 0., 1., 1., 0., 0., 0., 1., 1., 1.,\n",
              "       1., 0., 0., 0., 1., 1., 0., 1., 0., 0., 0., 0., 0., 0., 0., 0., 1.,\n",
              "       1., 0., 0., 0., 1., 0., 1., 0., 0., 1., 0., 1., 0., 0., 1., 1., 0.,\n",
              "       0., 0., 0., 0., 1., 0., 0., 0., 1., 0., 0., 1., 1., 0., 0., 1., 0.,\n",
              "       0., 0., 1., 1., 1., 0., 0., 1., 0., 1., 0., 1., 1., 0., 1., 0., 0.,\n",
              "       1., 0., 1., 1., 0., 0., 1., 0., 1., 0., 0., 1., 0., 1., 0., 1., 1.,\n",
              "       1., 0., 0., 1., 0., 1., 0., 0., 0., 1., 0., 0., 0., 0., 1., 1., 1.,\n",
              "       0., 0., 0., 0., 0., 0., 0., 0., 0., 1., 0., 0., 0., 0., 0., 1., 1.,\n",
              "       1., 0., 1., 1., 0., 0., 1., 0., 0., 1., 0., 0., 1., 1., 0., 0., 0.,\n",
              "       0., 1., 0., 0., 1., 0., 0., 0., 0., 0., 0., 0., 1., 1., 1., 0., 0.,\n",
              "       1., 0., 0., 1., 0., 0., 1., 0., 1., 1., 0., 1., 0., 1., 0., 1., 0.,\n",
              "       1., 1., 0., 0., 0., 0., 1., 1., 0., 1., 0., 1., 0., 0., 0., 0., 1.,\n",
              "       1., 0., 1., 0., 1., 0., 0., 0., 0., 0., 1., 0., 0., 0., 0., 1., 0.,\n",
              "       0., 1., 1., 1., 0., 0., 1., 0., 0., 1., 0., 0., 0., 1., 0., 0., 1.,\n",
              "       0., 0., 0., 0., 0., 0., 0., 0., 0., 1., 0., 0., 0., 0., 0., 0., 0.,\n",
              "       1., 0., 0., 0., 1., 0., 0., 0., 1., 1., 0., 0., 0., 0., 0., 0., 0.,\n",
              "       1., 0., 0., 0., 0., 1., 0., 0., 0., 1., 0., 0., 0., 1., 0., 0., 0.,\n",
              "       1., 0., 0., 0., 0., 1., 1., 0., 0., 0., 0., 0., 0., 1., 0., 0., 0.,\n",
              "       0., 0., 0., 0., 0., 0., 0., 0., 1., 0., 0., 0., 1., 1., 1., 1., 0.,\n",
              "       0., 1., 1., 0., 0., 0., 0., 0., 0., 0., 0., 0., 0., 0., 0., 0., 1.,\n",
              "       1., 0., 0., 0., 0., 0., 0., 0., 1., 0., 0., 0., 0., 0., 0., 0., 1.,\n",
              "       0., 1., 1., 0., 0., 0., 1., 0., 1., 0., 1., 0., 1., 0., 1., 0., 0.,\n",
              "       1., 0., 0., 1., 0., 0., 0., 0., 1., 1., 0., 1., 0., 0., 0., 0., 1.,\n",
              "       1., 0., 1., 0., 0., 0., 1., 1., 0., 0., 0., 0., 0., 0., 0., 0., 0.,\n",
              "       0., 1., 0., 0., 0., 0., 1., 0., 0., 1., 0., 0., 0., 1., 0., 0., 0.,\n",
              "       1., 1., 1., 0., 0., 0., 0., 0., 0., 1., 0., 0., 0., 1., 0., 1., 1.,\n",
              "       1., 1., 0., 1., 1., 0., 0., 0., 0., 0., 0., 0., 1., 1., 0., 1., 0.,\n",
              "       0., 1., 0., 1., 0., 0., 0., 0., 0., 1., 0., 1., 0., 1., 0., 1., 1.,\n",
              "       0., 0., 0., 0., 1., 1., 0., 0., 0., 1., 0., 1., 1., 0., 0., 1., 0.,\n",
              "       0., 1., 1., 0., 0., 1., 0., 0., 1., 0., 0., 0., 0., 0., 0., 0., 1.,\n",
              "       1., 1., 0., 0., 0., 0., 0., 0., 1., 1., 0., 0., 1., 0., 0., 1., 0.,\n",
              "       1., 1., 1., 0., 0., 1., 1., 1., 0., 1., 0., 1., 0., 1., 0., 0., 0.,\n",
              "       0., 1., 0.])"
            ]
          },
          "metadata": {},
          "execution_count": 12
        }
      ]
    },
    {
      "cell_type": "code",
      "source": [
        "# For counting 1:(+ve) and 0:(-ve) for diabeties\n",
        "from collections import Counter\n",
        "Counter(y)"
      ],
      "metadata": {
        "colab": {
          "base_uri": "https://localhost:8080/"
        },
        "id": "h8REYeHgKKY0",
        "outputId": "6f500f9d-e03d-4235-cc55-0ece9ca507ab"
      },
      "execution_count": 14,
      "outputs": [
        {
          "output_type": "execute_result",
          "data": {
            "text/plain": [
              "Counter({1.0: 268, 0.0: 500})"
            ]
          },
          "metadata": {},
          "execution_count": 14
        }
      ]
    },
    {
      "cell_type": "code",
      "source": [
        "from tensorflow.keras.models import Sequential\n",
        "from tensorflow.keras.layers import Dense"
      ],
      "metadata": {
        "id": "d1QNiJ5HKKdQ"
      },
      "execution_count": 18,
      "outputs": []
    },
    {
      "cell_type": "code",
      "source": [
        "model = Sequential()"
      ],
      "metadata": {
        "id": "t5CspCNSKKe0"
      },
      "execution_count": 19,
      "outputs": []
    },
    {
      "cell_type": "code",
      "source": [
        "# input layer\n",
        "model.add(Dense(12, input_dim=8, activation='relu'))\n",
        "\n",
        "# hidden layer\n",
        "model.add(Dense(8, activation='relu'))\n",
        "model.add(Dense(8, activation='relu'))\n",
        "\n",
        "# outout layer\n",
        "# sigmoid is for binary classification\n",
        "# softmax is for multi-class classification\n",
        "model.add(Dense(1, activation='sigmoid'))"
      ],
      "metadata": {
        "id": "FdvAu-xdKKi_"
      },
      "execution_count": 21,
      "outputs": []
    },
    {
      "cell_type": "code",
      "source": [
        "model.compile(loss='binary_crossentropy', optimizer='adam',\n",
        "              metrics=['accuracy'])"
      ],
      "metadata": {
        "id": "6yqxoZKBKKlT"
      },
      "execution_count": 23,
      "outputs": []
    },
    {
      "cell_type": "code",
      "source": [
        "# Train the model\n",
        "model.fit(x, y, epochs=100, batch_size=10)"
      ],
      "metadata": {
        "colab": {
          "base_uri": "https://localhost:8080/"
        },
        "id": "Y7scb2-SKKov",
        "outputId": "066deb05-e9ed-4a7b-f3c9-329988d04a1c"
      },
      "execution_count": 25,
      "outputs": [
        {
          "output_type": "stream",
          "name": "stdout",
          "text": [
            "Epoch 1/100\n",
            "77/77 [==============================] - 0s 3ms/step - loss: 0.4843 - accuracy: 0.7539\n",
            "Epoch 2/100\n",
            "77/77 [==============================] - 0s 3ms/step - loss: 0.4898 - accuracy: 0.7656\n",
            "Epoch 3/100\n",
            "77/77 [==============================] - 0s 2ms/step - loss: 0.5015 - accuracy: 0.7500\n",
            "Epoch 4/100\n",
            "77/77 [==============================] - 0s 3ms/step - loss: 0.4817 - accuracy: 0.7747\n",
            "Epoch 5/100\n",
            "77/77 [==============================] - 0s 2ms/step - loss: 0.4912 - accuracy: 0.7604\n",
            "Epoch 6/100\n",
            "77/77 [==============================] - 0s 3ms/step - loss: 0.4783 - accuracy: 0.7604\n",
            "Epoch 7/100\n",
            "77/77 [==============================] - 0s 2ms/step - loss: 0.4757 - accuracy: 0.7826\n",
            "Epoch 8/100\n",
            "77/77 [==============================] - 0s 3ms/step - loss: 0.4688 - accuracy: 0.7708\n",
            "Epoch 9/100\n",
            "77/77 [==============================] - 0s 2ms/step - loss: 0.4768 - accuracy: 0.7721\n",
            "Epoch 10/100\n",
            "77/77 [==============================] - 0s 2ms/step - loss: 0.4767 - accuracy: 0.7773\n",
            "Epoch 11/100\n",
            "77/77 [==============================] - 0s 3ms/step - loss: 0.4758 - accuracy: 0.7565\n",
            "Epoch 12/100\n",
            "77/77 [==============================] - 0s 2ms/step - loss: 0.4739 - accuracy: 0.7682\n",
            "Epoch 13/100\n",
            "77/77 [==============================] - 0s 3ms/step - loss: 0.4765 - accuracy: 0.7669\n",
            "Epoch 14/100\n",
            "77/77 [==============================] - 0s 2ms/step - loss: 0.4769 - accuracy: 0.7617\n",
            "Epoch 15/100\n",
            "77/77 [==============================] - 0s 2ms/step - loss: 0.4683 - accuracy: 0.7826\n",
            "Epoch 16/100\n",
            "77/77 [==============================] - 0s 3ms/step - loss: 0.4757 - accuracy: 0.7695\n",
            "Epoch 17/100\n",
            "77/77 [==============================] - 0s 2ms/step - loss: 0.4689 - accuracy: 0.7773\n",
            "Epoch 18/100\n",
            "77/77 [==============================] - 0s 2ms/step - loss: 0.4650 - accuracy: 0.7773\n",
            "Epoch 19/100\n",
            "77/77 [==============================] - 0s 2ms/step - loss: 0.4711 - accuracy: 0.7591\n",
            "Epoch 20/100\n",
            "77/77 [==============================] - 0s 2ms/step - loss: 0.4627 - accuracy: 0.7786\n",
            "Epoch 21/100\n",
            "77/77 [==============================] - 0s 2ms/step - loss: 0.4655 - accuracy: 0.7747\n",
            "Epoch 22/100\n",
            "77/77 [==============================] - 0s 3ms/step - loss: 0.4606 - accuracy: 0.7682\n",
            "Epoch 23/100\n",
            "77/77 [==============================] - 0s 3ms/step - loss: 0.4738 - accuracy: 0.7682\n",
            "Epoch 24/100\n",
            "77/77 [==============================] - 0s 2ms/step - loss: 0.4612 - accuracy: 0.7891\n",
            "Epoch 25/100\n",
            "77/77 [==============================] - 0s 2ms/step - loss: 0.4555 - accuracy: 0.7747\n",
            "Epoch 26/100\n",
            "77/77 [==============================] - 0s 3ms/step - loss: 0.4596 - accuracy: 0.7630\n",
            "Epoch 27/100\n",
            "77/77 [==============================] - 0s 2ms/step - loss: 0.4552 - accuracy: 0.7773\n",
            "Epoch 28/100\n",
            "77/77 [==============================] - 0s 2ms/step - loss: 0.4557 - accuracy: 0.7865\n",
            "Epoch 29/100\n",
            "77/77 [==============================] - 0s 4ms/step - loss: 0.4594 - accuracy: 0.7682\n",
            "Epoch 30/100\n",
            "77/77 [==============================] - 0s 4ms/step - loss: 0.4638 - accuracy: 0.7826\n",
            "Epoch 31/100\n",
            "77/77 [==============================] - 0s 4ms/step - loss: 0.4623 - accuracy: 0.7773\n",
            "Epoch 32/100\n",
            "77/77 [==============================] - 0s 4ms/step - loss: 0.4579 - accuracy: 0.7799\n",
            "Epoch 33/100\n",
            "77/77 [==============================] - 0s 4ms/step - loss: 0.4477 - accuracy: 0.7812\n",
            "Epoch 34/100\n",
            "77/77 [==============================] - 0s 4ms/step - loss: 0.4581 - accuracy: 0.7721\n",
            "Epoch 35/100\n",
            "77/77 [==============================] - 0s 5ms/step - loss: 0.4610 - accuracy: 0.7760\n",
            "Epoch 36/100\n",
            "77/77 [==============================] - 0s 4ms/step - loss: 0.4555 - accuracy: 0.7839\n",
            "Epoch 37/100\n",
            "77/77 [==============================] - 0s 4ms/step - loss: 0.4610 - accuracy: 0.7826\n",
            "Epoch 38/100\n",
            "77/77 [==============================] - 0s 3ms/step - loss: 0.4491 - accuracy: 0.7695\n",
            "Epoch 39/100\n",
            "77/77 [==============================] - 0s 2ms/step - loss: 0.4546 - accuracy: 0.7799\n",
            "Epoch 40/100\n",
            "77/77 [==============================] - 0s 2ms/step - loss: 0.4430 - accuracy: 0.7865\n",
            "Epoch 41/100\n",
            "77/77 [==============================] - 0s 3ms/step - loss: 0.4556 - accuracy: 0.7760\n",
            "Epoch 42/100\n",
            "77/77 [==============================] - 0s 3ms/step - loss: 0.4531 - accuracy: 0.7786\n",
            "Epoch 43/100\n",
            "77/77 [==============================] - 0s 3ms/step - loss: 0.4453 - accuracy: 0.7826\n",
            "Epoch 44/100\n",
            "77/77 [==============================] - 0s 3ms/step - loss: 0.4473 - accuracy: 0.7904\n",
            "Epoch 45/100\n",
            "77/77 [==============================] - 0s 2ms/step - loss: 0.4428 - accuracy: 0.7878\n",
            "Epoch 46/100\n",
            "77/77 [==============================] - 0s 2ms/step - loss: 0.4467 - accuracy: 0.7682\n",
            "Epoch 47/100\n",
            "77/77 [==============================] - 0s 2ms/step - loss: 0.4504 - accuracy: 0.7786\n",
            "Epoch 48/100\n",
            "77/77 [==============================] - 0s 3ms/step - loss: 0.4487 - accuracy: 0.7995\n",
            "Epoch 49/100\n",
            "77/77 [==============================] - 0s 2ms/step - loss: 0.4491 - accuracy: 0.7708\n",
            "Epoch 50/100\n",
            "77/77 [==============================] - 0s 2ms/step - loss: 0.4332 - accuracy: 0.7799\n",
            "Epoch 51/100\n",
            "77/77 [==============================] - 0s 2ms/step - loss: 0.4401 - accuracy: 0.7878\n",
            "Epoch 52/100\n",
            "77/77 [==============================] - 0s 3ms/step - loss: 0.4339 - accuracy: 0.7956\n",
            "Epoch 53/100\n",
            "77/77 [==============================] - 0s 3ms/step - loss: 0.4449 - accuracy: 0.7773\n",
            "Epoch 54/100\n",
            "77/77 [==============================] - 0s 2ms/step - loss: 0.4496 - accuracy: 0.7917\n",
            "Epoch 55/100\n",
            "77/77 [==============================] - 0s 2ms/step - loss: 0.4436 - accuracy: 0.7956\n",
            "Epoch 56/100\n",
            "77/77 [==============================] - 0s 2ms/step - loss: 0.4386 - accuracy: 0.7826\n",
            "Epoch 57/100\n",
            "77/77 [==============================] - 0s 2ms/step - loss: 0.4353 - accuracy: 0.7930\n",
            "Epoch 58/100\n",
            "77/77 [==============================] - 0s 3ms/step - loss: 0.4337 - accuracy: 0.7943\n",
            "Epoch 59/100\n",
            "77/77 [==============================] - 0s 2ms/step - loss: 0.4372 - accuracy: 0.7734\n",
            "Epoch 60/100\n",
            "77/77 [==============================] - 0s 2ms/step - loss: 0.4382 - accuracy: 0.7904\n",
            "Epoch 61/100\n",
            "77/77 [==============================] - 0s 2ms/step - loss: 0.4296 - accuracy: 0.8021\n",
            "Epoch 62/100\n",
            "77/77 [==============================] - 0s 3ms/step - loss: 0.4327 - accuracy: 0.7982\n",
            "Epoch 63/100\n",
            "77/77 [==============================] - 0s 3ms/step - loss: 0.4484 - accuracy: 0.7799\n",
            "Epoch 64/100\n",
            "77/77 [==============================] - 0s 2ms/step - loss: 0.4345 - accuracy: 0.7982\n",
            "Epoch 65/100\n",
            "77/77 [==============================] - 0s 2ms/step - loss: 0.4382 - accuracy: 0.7839\n",
            "Epoch 66/100\n",
            "77/77 [==============================] - 0s 2ms/step - loss: 0.4449 - accuracy: 0.7852\n",
            "Epoch 67/100\n",
            "77/77 [==============================] - 0s 3ms/step - loss: 0.4302 - accuracy: 0.8021\n",
            "Epoch 68/100\n",
            "77/77 [==============================] - 0s 3ms/step - loss: 0.4364 - accuracy: 0.7852\n",
            "Epoch 69/100\n",
            "77/77 [==============================] - 0s 3ms/step - loss: 0.4229 - accuracy: 0.8034\n",
            "Epoch 70/100\n",
            "77/77 [==============================] - 0s 2ms/step - loss: 0.4466 - accuracy: 0.7865\n",
            "Epoch 71/100\n",
            "77/77 [==============================] - 0s 3ms/step - loss: 0.4282 - accuracy: 0.7917\n",
            "Epoch 72/100\n",
            "77/77 [==============================] - 0s 3ms/step - loss: 0.4310 - accuracy: 0.7878\n",
            "Epoch 73/100\n",
            "77/77 [==============================] - 0s 3ms/step - loss: 0.4269 - accuracy: 0.7956\n",
            "Epoch 74/100\n",
            "77/77 [==============================] - 0s 2ms/step - loss: 0.4211 - accuracy: 0.7917\n",
            "Epoch 75/100\n",
            "77/77 [==============================] - 0s 2ms/step - loss: 0.4270 - accuracy: 0.7812\n",
            "Epoch 76/100\n",
            "77/77 [==============================] - 0s 3ms/step - loss: 0.4274 - accuracy: 0.7826\n",
            "Epoch 77/100\n",
            "77/77 [==============================] - 0s 2ms/step - loss: 0.4328 - accuracy: 0.7917\n",
            "Epoch 78/100\n",
            "77/77 [==============================] - 0s 2ms/step - loss: 0.4387 - accuracy: 0.7734\n",
            "Epoch 79/100\n",
            "77/77 [==============================] - 0s 2ms/step - loss: 0.4203 - accuracy: 0.7943\n",
            "Epoch 80/100\n",
            "77/77 [==============================] - 0s 2ms/step - loss: 0.4291 - accuracy: 0.7943\n",
            "Epoch 81/100\n",
            "77/77 [==============================] - 0s 3ms/step - loss: 0.4203 - accuracy: 0.7969\n",
            "Epoch 82/100\n",
            "77/77 [==============================] - 0s 3ms/step - loss: 0.4266 - accuracy: 0.8034\n",
            "Epoch 83/100\n",
            "77/77 [==============================] - 0s 3ms/step - loss: 0.4216 - accuracy: 0.7904\n",
            "Epoch 84/100\n",
            "77/77 [==============================] - 0s 3ms/step - loss: 0.4133 - accuracy: 0.8034\n",
            "Epoch 85/100\n",
            "77/77 [==============================] - 0s 3ms/step - loss: 0.4248 - accuracy: 0.7891\n",
            "Epoch 86/100\n",
            "77/77 [==============================] - 0s 3ms/step - loss: 0.4184 - accuracy: 0.7982\n",
            "Epoch 87/100\n",
            "77/77 [==============================] - 0s 3ms/step - loss: 0.4241 - accuracy: 0.8034\n",
            "Epoch 88/100\n",
            "77/77 [==============================] - 0s 6ms/step - loss: 0.4292 - accuracy: 0.7917\n",
            "Epoch 89/100\n",
            "77/77 [==============================] - 0s 4ms/step - loss: 0.4223 - accuracy: 0.8008\n",
            "Epoch 90/100\n",
            "77/77 [==============================] - 0s 3ms/step - loss: 0.4197 - accuracy: 0.7930\n",
            "Epoch 91/100\n",
            "77/77 [==============================] - 0s 4ms/step - loss: 0.4114 - accuracy: 0.8112\n",
            "Epoch 92/100\n",
            "77/77 [==============================] - 0s 4ms/step - loss: 0.4205 - accuracy: 0.8073\n",
            "Epoch 93/100\n",
            "77/77 [==============================] - 0s 4ms/step - loss: 0.4135 - accuracy: 0.7930\n",
            "Epoch 94/100\n",
            "77/77 [==============================] - 0s 4ms/step - loss: 0.4159 - accuracy: 0.7878\n",
            "Epoch 95/100\n",
            "77/77 [==============================] - 0s 4ms/step - loss: 0.4237 - accuracy: 0.7891\n",
            "Epoch 96/100\n",
            "77/77 [==============================] - 0s 4ms/step - loss: 0.4203 - accuracy: 0.8021\n",
            "Epoch 97/100\n",
            "77/77 [==============================] - 0s 4ms/step - loss: 0.4205 - accuracy: 0.8034\n",
            "Epoch 98/100\n",
            "77/77 [==============================] - 0s 3ms/step - loss: 0.4189 - accuracy: 0.7930\n",
            "Epoch 99/100\n",
            "77/77 [==============================] - 0s 2ms/step - loss: 0.4149 - accuracy: 0.7943\n",
            "Epoch 100/100\n",
            "77/77 [==============================] - 0s 2ms/step - loss: 0.4163 - accuracy: 0.7969\n"
          ]
        },
        {
          "output_type": "execute_result",
          "data": {
            "text/plain": [
              "<keras.src.callbacks.History at 0x7e807dfa4a00>"
            ]
          },
          "metadata": {},
          "execution_count": 25
        }
      ]
    },
    {
      "cell_type": "code",
      "source": [
        "# Evaluate the model\n",
        "model.evaluate(x,y)"
      ],
      "metadata": {
        "colab": {
          "base_uri": "https://localhost:8080/"
        },
        "id": "2O4zxnj4KKqb",
        "outputId": "76c2fca3-33ea-4d84-ec6b-fae2270391ab"
      },
      "execution_count": 26,
      "outputs": [
        {
          "output_type": "stream",
          "name": "stdout",
          "text": [
            "24/24 [==============================] - 0s 2ms/step - loss: 0.3966 - accuracy: 0.8099\n"
          ]
        },
        {
          "output_type": "execute_result",
          "data": {
            "text/plain": [
              "[0.3965916335582733, 0.8098958134651184]"
            ]
          },
          "metadata": {},
          "execution_count": 26
        }
      ]
    },
    {
      "cell_type": "code",
      "source": [
        "model.summary()"
      ],
      "metadata": {
        "colab": {
          "base_uri": "https://localhost:8080/"
        },
        "id": "uwjG3f47KKug",
        "outputId": "17982c2d-bc69-419e-e9b6-5331089a3ff1"
      },
      "execution_count": 27,
      "outputs": [
        {
          "output_type": "stream",
          "name": "stdout",
          "text": [
            "Model: \"sequential\"\n",
            "_________________________________________________________________\n",
            " Layer (type)                Output Shape              Param #   \n",
            "=================================================================\n",
            " dense (Dense)               (None, 12)                108       \n",
            "                                                                 \n",
            " dense_1 (Dense)             (None, 12)                156       \n",
            "                                                                 \n",
            " dense_2 (Dense)             (None, 8)                 104       \n",
            "                                                                 \n",
            " dense_3 (Dense)             (None, 8)                 72        \n",
            "                                                                 \n",
            " dense_4 (Dense)             (None, 1)                 9         \n",
            "                                                                 \n",
            "=================================================================\n",
            "Total params: 449 (1.75 KB)\n",
            "Trainable params: 449 (1.75 KB)\n",
            "Non-trainable params: 0 (0.00 Byte)\n",
            "_________________________________________________________________\n"
          ]
        }
      ]
    },
    {
      "cell_type": "code",
      "source": [],
      "metadata": {
        "id": "HhV-Q9zBKKwK"
      },
      "execution_count": null,
      "outputs": []
    },
    {
      "cell_type": "code",
      "source": [],
      "metadata": {
        "id": "HFgYev4FKK0g"
      },
      "execution_count": null,
      "outputs": []
    },
    {
      "cell_type": "code",
      "source": [],
      "metadata": {
        "id": "E2VqtbD-KK2K"
      },
      "execution_count": null,
      "outputs": []
    },
    {
      "cell_type": "code",
      "source": [],
      "metadata": {
        "id": "oqV2wv5eKK6K"
      },
      "execution_count": null,
      "outputs": []
    },
    {
      "cell_type": "code",
      "source": [],
      "metadata": {
        "id": "yitfLA71KK7i"
      },
      "execution_count": null,
      "outputs": []
    }
  ]
}